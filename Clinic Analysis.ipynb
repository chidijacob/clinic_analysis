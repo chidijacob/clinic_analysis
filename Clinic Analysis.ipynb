{
 "cells": [
  {
   "cell_type": "code",
   "execution_count": 1,
   "id": "cc84c32e",
   "metadata": {},
   "outputs": [],
   "source": [
    "import pandas as pd\n",
    "df = pd.read_csv(\"https://raw.githubusercontent.com/Gaelim/Clinic_Analysis_Pandas/master/hospital_data.csv\")"
   ]
  },
  {
   "cell_type": "markdown",
   "id": "53078011",
   "metadata": {},
   "source": [
    "#### Explore data\n",
    "we will explore the native functions and the dataset"
   ]
  },
  {
   "cell_type": "code",
   "execution_count": 2,
   "id": "02d4b9be",
   "metadata": {},
   "outputs": [
    {
     "data": {
      "text/html": [
       "<div>\n",
       "<style scoped>\n",
       "    .dataframe tbody tr th:only-of-type {\n",
       "        vertical-align: middle;\n",
       "    }\n",
       "\n",
       "    .dataframe tbody tr th {\n",
       "        vertical-align: top;\n",
       "    }\n",
       "\n",
       "    .dataframe thead th {\n",
       "        text-align: right;\n",
       "    }\n",
       "</style>\n",
       "<table border=\"1\" class=\"dataframe\">\n",
       "  <thead>\n",
       "    <tr style=\"text-align: right;\">\n",
       "      <th></th>\n",
       "      <th>Date</th>\n",
       "      <th>Medication Revenue</th>\n",
       "      <th>Lab Cost</th>\n",
       "      <th>Consultation Revenue</th>\n",
       "      <th>Doctor Type</th>\n",
       "      <th>Financial Class</th>\n",
       "      <th>Patient Type</th>\n",
       "      <th>Entry Time</th>\n",
       "      <th>Post-Consultation Time</th>\n",
       "      <th>Completion Time</th>\n",
       "      <th>Doctor</th>\n",
       "      <th>Patient ID</th>\n",
       "    </tr>\n",
       "  </thead>\n",
       "  <tbody>\n",
       "    <tr>\n",
       "      <th>0</th>\n",
       "      <td>11/4/2019 0:00</td>\n",
       "      <td>$1,183.22</td>\n",
       "      <td>$10.00</td>\n",
       "      <td>$20.17</td>\n",
       "      <td>ANCHOR</td>\n",
       "      <td>HMO</td>\n",
       "      <td>OUTPATIENT</td>\n",
       "      <td>8:35:45</td>\n",
       "      <td>9:17:54</td>\n",
       "      <td>9:29:46</td>\n",
       "      <td>DR05350C4</td>\n",
       "      <td>C10001</td>\n",
       "    </tr>\n",
       "    <tr>\n",
       "      <th>1</th>\n",
       "      <td>11/6/2019 0:00</td>\n",
       "      <td>$738.48</td>\n",
       "      <td>$-</td>\n",
       "      <td>$15.00</td>\n",
       "      <td>ANCHOR</td>\n",
       "      <td>INSURANCE</td>\n",
       "      <td>OUTPATIENT</td>\n",
       "      <td>19:19:16</td>\n",
       "      <td>21:02:36</td>\n",
       "      <td>21:24:07</td>\n",
       "      <td>DR09451Z4</td>\n",
       "      <td>C10002</td>\n",
       "    </tr>\n",
       "    <tr>\n",
       "      <th>2</th>\n",
       "      <td>11/2/2019 0:00</td>\n",
       "      <td>$660.00</td>\n",
       "      <td>$-</td>\n",
       "      <td>$21.17</td>\n",
       "      <td>ANCHOR</td>\n",
       "      <td>HMO</td>\n",
       "      <td>OUTPATIENT</td>\n",
       "      <td>10:46:52</td>\n",
       "      <td>11:56:25</td>\n",
       "      <td>12:06:28</td>\n",
       "      <td>DR17400I4</td>\n",
       "      <td>C10003</td>\n",
       "    </tr>\n",
       "    <tr>\n",
       "      <th>3</th>\n",
       "      <td>11/6/2019 0:00</td>\n",
       "      <td>$600.00</td>\n",
       "      <td>$-</td>\n",
       "      <td>$-</td>\n",
       "      <td>ANCHOR</td>\n",
       "      <td>MEDICARE</td>\n",
       "      <td>OUTPATIENT</td>\n",
       "      <td>9:38:34</td>\n",
       "      <td>10:55:50</td>\n",
       "      <td>10:58:02</td>\n",
       "      <td>DR09451Z4</td>\n",
       "      <td>C10004</td>\n",
       "    </tr>\n",
       "    <tr>\n",
       "      <th>4</th>\n",
       "      <td>11/1/2019 0:00</td>\n",
       "      <td>$591.60</td>\n",
       "      <td>$-</td>\n",
       "      <td>$12.00</td>\n",
       "      <td>ANCHOR</td>\n",
       "      <td>INSURANCE</td>\n",
       "      <td>OUTPATIENT</td>\n",
       "      <td>11:16:21</td>\n",
       "      <td>12:06:49</td>\n",
       "      <td>12:06:54</td>\n",
       "      <td>DR15154H4</td>\n",
       "      <td>C10005</td>\n",
       "    </tr>\n",
       "  </tbody>\n",
       "</table>\n",
       "</div>"
      ],
      "text/plain": [
       "             Date  Medication Revenue    Lab Cost   Consultation Revenue   \\\n",
       "0  11/4/2019 0:00           $1,183.22      $10.00                 $20.17    \n",
       "1  11/6/2019 0:00             $738.48        $-                   $15.00    \n",
       "2  11/2/2019 0:00             $660.00        $-                   $21.17    \n",
       "3  11/6/2019 0:00             $600.00        $-                     $-      \n",
       "4  11/1/2019 0:00             $591.60        $-                   $12.00    \n",
       "\n",
       "  Doctor Type Financial Class Patient Type Entry Time Post-Consultation Time  \\\n",
       "0      ANCHOR             HMO   OUTPATIENT    8:35:45                9:17:54   \n",
       "1      ANCHOR       INSURANCE   OUTPATIENT   19:19:16               21:02:36   \n",
       "2      ANCHOR             HMO   OUTPATIENT   10:46:52               11:56:25   \n",
       "3      ANCHOR        MEDICARE   OUTPATIENT    9:38:34               10:55:50   \n",
       "4      ANCHOR       INSURANCE   OUTPATIENT   11:16:21               12:06:49   \n",
       "\n",
       "  Completion Time     Doctor Patient ID  \n",
       "0         9:29:46  DR05350C4     C10001  \n",
       "1        21:24:07  DR09451Z4     C10002  \n",
       "2        12:06:28  DR17400I4     C10003  \n",
       "3        10:58:02  DR09451Z4     C10004  \n",
       "4        12:06:54  DR15154H4     C10005  "
      ]
     },
     "execution_count": 2,
     "metadata": {},
     "output_type": "execute_result"
    }
   ],
   "source": [
    "df.head()"
   ]
  },
  {
   "cell_type": "code",
   "execution_count": 3,
   "id": "097279fb",
   "metadata": {},
   "outputs": [
    {
     "name": "stdout",
     "output_type": "stream",
     "text": [
      "<class 'pandas.core.frame.DataFrame'>\n",
      "RangeIndex: 29999 entries, 0 to 29998\n",
      "Data columns (total 12 columns):\n",
      " #   Column                  Non-Null Count  Dtype \n",
      "---  ------                  --------------  ----- \n",
      " 0   Date                    29999 non-null  object\n",
      " 1    Medication Revenue     29999 non-null  object\n",
      " 2     Lab Cost              29999 non-null  object\n",
      " 3    Consultation Revenue   29999 non-null  object\n",
      " 4   Doctor Type             29999 non-null  object\n",
      " 5   Financial Class         29999 non-null  object\n",
      " 6   Patient Type            29999 non-null  object\n",
      " 7   Entry Time              29999 non-null  object\n",
      " 8   Post-Consultation Time  29999 non-null  object\n",
      " 9   Completion Time         29999 non-null  object\n",
      " 10  Doctor                  29999 non-null  object\n",
      " 11  Patient ID              29999 non-null  object\n",
      "dtypes: object(12)\n",
      "memory usage: 2.7+ MB\n"
     ]
    }
   ],
   "source": [
    "df.info()"
   ]
  },
  {
   "cell_type": "code",
   "execution_count": 4,
   "id": "ee160c33",
   "metadata": {},
   "outputs": [
    {
     "data": {
      "text/plain": [
       "Index(['Date', ' Medication Revenue ', '  Lab Cost ', ' Consultation Revenue ',\n",
       "       'Doctor Type', 'Financial Class', 'Patient Type', 'Entry Time',\n",
       "       'Post-Consultation Time', 'Completion Time', 'Doctor', 'Patient ID'],\n",
       "      dtype='object')"
      ]
     },
     "execution_count": 4,
     "metadata": {},
     "output_type": "execute_result"
    }
   ],
   "source": [
    "df.columns"
   ]
  },
  {
   "cell_type": "code",
   "execution_count": 5,
   "id": "a75e786a",
   "metadata": {},
   "outputs": [
    {
     "name": "stdout",
     "output_type": "stream",
     "text": [
      "<class 'pandas.core.frame.DataFrame'>\n",
      "RangeIndex: 29999 entries, 0 to 29998\n",
      "Data columns (total 12 columns):\n",
      " #   Column                  Non-Null Count  Dtype \n",
      "---  ------                  --------------  ----- \n",
      " 0   Date                    29999 non-null  object\n",
      " 1   Medication Revenue      29999 non-null  object\n",
      " 2   Lab Cost                29999 non-null  object\n",
      " 3   Consultation Revenue    29999 non-null  object\n",
      " 4   Doctor Type             29999 non-null  object\n",
      " 5   Financial Class         29999 non-null  object\n",
      " 6   Patient Type            29999 non-null  object\n",
      " 7   Entry Time              29999 non-null  object\n",
      " 8   Post-Consultation Time  29999 non-null  object\n",
      " 9   Completion Time         29999 non-null  object\n",
      " 10  Doctor                  29999 non-null  object\n",
      " 11  Patient ID              29999 non-null  object\n",
      "dtypes: object(12)\n",
      "memory usage: 2.7+ MB\n"
     ]
    }
   ],
   "source": [
    "# clean the spaces in the column headings\n",
    "df.columns = ['Date', 'Medication Revenue ', 'Lab Cost ', 'Consultation Revenue ',\n",
    "       'Doctor Type', 'Financial Class', 'Patient Type', 'Entry Time',\n",
    "       'Post-Consultation Time', 'Completion Time', 'Doctor', 'Patient ID']\n",
    "df.info()"
   ]
  },
  {
   "cell_type": "code",
   "execution_count": 6,
   "id": "1cf0524b",
   "metadata": {},
   "outputs": [],
   "source": [
    "df.columns = df.columns.str.strip()"
   ]
  },
  {
   "cell_type": "code",
   "execution_count": 7,
   "id": "a1cbbb66",
   "metadata": {},
   "outputs": [
    {
     "name": "stdout",
     "output_type": "stream",
     "text": [
      "<class 'pandas.core.frame.DataFrame'>\n",
      "RangeIndex: 29999 entries, 0 to 29998\n",
      "Data columns (total 12 columns):\n",
      " #   Column                  Non-Null Count  Dtype \n",
      "---  ------                  --------------  ----- \n",
      " 0   Date                    29999 non-null  object\n",
      " 1   Medication Revenue      29999 non-null  object\n",
      " 2   Lab Cost                29999 non-null  object\n",
      " 3   Consultation Revenue    29999 non-null  object\n",
      " 4   Doctor Type             29999 non-null  object\n",
      " 5   Financial Class         29999 non-null  object\n",
      " 6   Patient Type            29999 non-null  object\n",
      " 7   Entry Time              29999 non-null  object\n",
      " 8   Post-Consultation Time  29999 non-null  object\n",
      " 9   Completion Time         29999 non-null  object\n",
      " 10  Doctor                  29999 non-null  object\n",
      " 11  Patient ID              29999 non-null  object\n",
      "dtypes: object(12)\n",
      "memory usage: 2.7+ MB\n"
     ]
    }
   ],
   "source": [
    "df.info()"
   ]
  },
  {
   "cell_type": "code",
   "execution_count": 8,
   "id": "9c7c8fd5",
   "metadata": {},
   "outputs": [
    {
     "data": {
      "text/html": [
       "<div>\n",
       "<style scoped>\n",
       "    .dataframe tbody tr th:only-of-type {\n",
       "        vertical-align: middle;\n",
       "    }\n",
       "\n",
       "    .dataframe tbody tr th {\n",
       "        vertical-align: top;\n",
       "    }\n",
       "\n",
       "    .dataframe thead th {\n",
       "        text-align: right;\n",
       "    }\n",
       "</style>\n",
       "<table border=\"1\" class=\"dataframe\">\n",
       "  <thead>\n",
       "    <tr style=\"text-align: right;\">\n",
       "      <th></th>\n",
       "      <th>Date</th>\n",
       "      <th>Medication Revenue</th>\n",
       "      <th>Lab Cost</th>\n",
       "      <th>Consultation Revenue</th>\n",
       "      <th>Doctor Type</th>\n",
       "      <th>Financial Class</th>\n",
       "      <th>Patient Type</th>\n",
       "      <th>Entry Time</th>\n",
       "      <th>Post-Consultation Time</th>\n",
       "      <th>Completion Time</th>\n",
       "      <th>Doctor</th>\n",
       "      <th>Patient ID</th>\n",
       "    </tr>\n",
       "  </thead>\n",
       "  <tbody>\n",
       "    <tr>\n",
       "      <th>0</th>\n",
       "      <td>11/4/2019 0:00</td>\n",
       "      <td>$1,183.22</td>\n",
       "      <td>$10.00</td>\n",
       "      <td>$20.17</td>\n",
       "      <td>ANCHOR</td>\n",
       "      <td>HMO</td>\n",
       "      <td>OUTPATIENT</td>\n",
       "      <td>8:35:45</td>\n",
       "      <td>9:17:54</td>\n",
       "      <td>9:29:46</td>\n",
       "      <td>DR05350C4</td>\n",
       "      <td>C10001</td>\n",
       "    </tr>\n",
       "    <tr>\n",
       "      <th>1</th>\n",
       "      <td>11/6/2019 0:00</td>\n",
       "      <td>$738.48</td>\n",
       "      <td>$-</td>\n",
       "      <td>$15.00</td>\n",
       "      <td>ANCHOR</td>\n",
       "      <td>INSURANCE</td>\n",
       "      <td>OUTPATIENT</td>\n",
       "      <td>19:19:16</td>\n",
       "      <td>21:02:36</td>\n",
       "      <td>21:24:07</td>\n",
       "      <td>DR09451Z4</td>\n",
       "      <td>C10002</td>\n",
       "    </tr>\n",
       "    <tr>\n",
       "      <th>2</th>\n",
       "      <td>11/2/2019 0:00</td>\n",
       "      <td>$660.00</td>\n",
       "      <td>$-</td>\n",
       "      <td>$21.17</td>\n",
       "      <td>ANCHOR</td>\n",
       "      <td>HMO</td>\n",
       "      <td>OUTPATIENT</td>\n",
       "      <td>10:46:52</td>\n",
       "      <td>11:56:25</td>\n",
       "      <td>12:06:28</td>\n",
       "      <td>DR17400I4</td>\n",
       "      <td>C10003</td>\n",
       "    </tr>\n",
       "    <tr>\n",
       "      <th>3</th>\n",
       "      <td>11/6/2019 0:00</td>\n",
       "      <td>$600.00</td>\n",
       "      <td>$-</td>\n",
       "      <td>$-</td>\n",
       "      <td>ANCHOR</td>\n",
       "      <td>MEDICARE</td>\n",
       "      <td>OUTPATIENT</td>\n",
       "      <td>9:38:34</td>\n",
       "      <td>10:55:50</td>\n",
       "      <td>10:58:02</td>\n",
       "      <td>DR09451Z4</td>\n",
       "      <td>C10004</td>\n",
       "    </tr>\n",
       "    <tr>\n",
       "      <th>4</th>\n",
       "      <td>11/1/2019 0:00</td>\n",
       "      <td>$591.60</td>\n",
       "      <td>$-</td>\n",
       "      <td>$12.00</td>\n",
       "      <td>ANCHOR</td>\n",
       "      <td>INSURANCE</td>\n",
       "      <td>OUTPATIENT</td>\n",
       "      <td>11:16:21</td>\n",
       "      <td>12:06:49</td>\n",
       "      <td>12:06:54</td>\n",
       "      <td>DR15154H4</td>\n",
       "      <td>C10005</td>\n",
       "    </tr>\n",
       "  </tbody>\n",
       "</table>\n",
       "</div>"
      ],
      "text/plain": [
       "             Date Medication Revenue Lab Cost Consultation Revenue  \\\n",
       "0  11/4/2019 0:00         $1,183.22   $10.00               $20.17    \n",
       "1  11/6/2019 0:00           $738.48     $-                 $15.00    \n",
       "2  11/2/2019 0:00           $660.00     $-                 $21.17    \n",
       "3  11/6/2019 0:00           $600.00     $-                   $-      \n",
       "4  11/1/2019 0:00           $591.60     $-                 $12.00    \n",
       "\n",
       "  Doctor Type Financial Class Patient Type Entry Time Post-Consultation Time  \\\n",
       "0      ANCHOR             HMO   OUTPATIENT    8:35:45                9:17:54   \n",
       "1      ANCHOR       INSURANCE   OUTPATIENT   19:19:16               21:02:36   \n",
       "2      ANCHOR             HMO   OUTPATIENT   10:46:52               11:56:25   \n",
       "3      ANCHOR        MEDICARE   OUTPATIENT    9:38:34               10:55:50   \n",
       "4      ANCHOR       INSURANCE   OUTPATIENT   11:16:21               12:06:49   \n",
       "\n",
       "  Completion Time     Doctor Patient ID  \n",
       "0         9:29:46  DR05350C4     C10001  \n",
       "1        21:24:07  DR09451Z4     C10002  \n",
       "2        12:06:28  DR17400I4     C10003  \n",
       "3        10:58:02  DR09451Z4     C10004  \n",
       "4        12:06:54  DR15154H4     C10005  "
      ]
     },
     "execution_count": 8,
     "metadata": {},
     "output_type": "execute_result"
    }
   ],
   "source": [
    "df.head()"
   ]
  },
  {
   "cell_type": "code",
   "execution_count": 9,
   "id": "8bf557d8",
   "metadata": {},
   "outputs": [],
   "source": [
    "def clean_df(x):\n",
    "    x = x.replace(\"$\",\"\")\n",
    "    x = x.replace(\"-\",\"\")\n",
    "    x = x.replace(\",\",\"\")\n",
    "    x = x.replace(\" \",\"\")\n",
    "    x = pd.to_numeric(x)\n",
    "    return x"
   ]
  },
  {
   "cell_type": "code",
   "execution_count": 10,
   "id": "fac8a191",
   "metadata": {},
   "outputs": [
    {
     "data": {
      "text/plain": [
       "1183.22"
      ]
     },
     "execution_count": 10,
     "metadata": {},
     "output_type": "execute_result"
    }
   ],
   "source": [
    "clean_df('$1,183.22')"
   ]
  },
  {
   "cell_type": "code",
   "execution_count": 11,
   "id": "5d62a5ee",
   "metadata": {},
   "outputs": [],
   "source": [
    "df[\"Medication Revenue\"] = df[\"Medication Revenue\"].apply(clean_df)\n",
    "df[\"Lab Cost\"] = df[\"Lab Cost\"].apply(clean_df)\n",
    "df[\"Consultation Revenue\"] = df[\"Consultation Revenue\"].apply(clean_df)"
   ]
  },
  {
   "cell_type": "code",
   "execution_count": 12,
   "id": "dfd8e334",
   "metadata": {},
   "outputs": [],
   "source": [
    "df = df.fillna(0)"
   ]
  },
  {
   "cell_type": "code",
   "execution_count": 13,
   "id": "8c9e353f",
   "metadata": {},
   "outputs": [],
   "source": [
    "df[\"Total Revenue\"] = df[\"Medication Revenue\"]+df[\"Lab Cost\"]+df[\"Consultation Revenue\"]"
   ]
  },
  {
   "cell_type": "code",
   "execution_count": 14,
   "id": "9fe299c9",
   "metadata": {
    "scrolled": true
   },
   "outputs": [
    {
     "data": {
      "text/html": [
       "<div>\n",
       "<style scoped>\n",
       "    .dataframe tbody tr th:only-of-type {\n",
       "        vertical-align: middle;\n",
       "    }\n",
       "\n",
       "    .dataframe tbody tr th {\n",
       "        vertical-align: top;\n",
       "    }\n",
       "\n",
       "    .dataframe thead th {\n",
       "        text-align: right;\n",
       "    }\n",
       "</style>\n",
       "<table border=\"1\" class=\"dataframe\">\n",
       "  <thead>\n",
       "    <tr style=\"text-align: right;\">\n",
       "      <th></th>\n",
       "      <th>Date</th>\n",
       "      <th>Medication Revenue</th>\n",
       "      <th>Lab Cost</th>\n",
       "      <th>Consultation Revenue</th>\n",
       "      <th>Doctor Type</th>\n",
       "      <th>Financial Class</th>\n",
       "      <th>Patient Type</th>\n",
       "      <th>Entry Time</th>\n",
       "      <th>Post-Consultation Time</th>\n",
       "      <th>Completion Time</th>\n",
       "      <th>Doctor</th>\n",
       "      <th>Patient ID</th>\n",
       "      <th>Total Revenue</th>\n",
       "    </tr>\n",
       "  </thead>\n",
       "  <tbody>\n",
       "    <tr>\n",
       "      <th>0</th>\n",
       "      <td>11/4/2019 0:00</td>\n",
       "      <td>1183.22</td>\n",
       "      <td>10.0</td>\n",
       "      <td>20.17</td>\n",
       "      <td>ANCHOR</td>\n",
       "      <td>HMO</td>\n",
       "      <td>OUTPATIENT</td>\n",
       "      <td>8:35:45</td>\n",
       "      <td>9:17:54</td>\n",
       "      <td>9:29:46</td>\n",
       "      <td>DR05350C4</td>\n",
       "      <td>C10001</td>\n",
       "      <td>1213.39</td>\n",
       "    </tr>\n",
       "    <tr>\n",
       "      <th>1</th>\n",
       "      <td>11/6/2019 0:00</td>\n",
       "      <td>738.48</td>\n",
       "      <td>0.0</td>\n",
       "      <td>15.00</td>\n",
       "      <td>ANCHOR</td>\n",
       "      <td>INSURANCE</td>\n",
       "      <td>OUTPATIENT</td>\n",
       "      <td>19:19:16</td>\n",
       "      <td>21:02:36</td>\n",
       "      <td>21:24:07</td>\n",
       "      <td>DR09451Z4</td>\n",
       "      <td>C10002</td>\n",
       "      <td>753.48</td>\n",
       "    </tr>\n",
       "    <tr>\n",
       "      <th>2</th>\n",
       "      <td>11/2/2019 0:00</td>\n",
       "      <td>660.00</td>\n",
       "      <td>0.0</td>\n",
       "      <td>21.17</td>\n",
       "      <td>ANCHOR</td>\n",
       "      <td>HMO</td>\n",
       "      <td>OUTPATIENT</td>\n",
       "      <td>10:46:52</td>\n",
       "      <td>11:56:25</td>\n",
       "      <td>12:06:28</td>\n",
       "      <td>DR17400I4</td>\n",
       "      <td>C10003</td>\n",
       "      <td>681.17</td>\n",
       "    </tr>\n",
       "    <tr>\n",
       "      <th>3</th>\n",
       "      <td>11/6/2019 0:00</td>\n",
       "      <td>600.00</td>\n",
       "      <td>0.0</td>\n",
       "      <td>0.00</td>\n",
       "      <td>ANCHOR</td>\n",
       "      <td>MEDICARE</td>\n",
       "      <td>OUTPATIENT</td>\n",
       "      <td>9:38:34</td>\n",
       "      <td>10:55:50</td>\n",
       "      <td>10:58:02</td>\n",
       "      <td>DR09451Z4</td>\n",
       "      <td>C10004</td>\n",
       "      <td>600.00</td>\n",
       "    </tr>\n",
       "    <tr>\n",
       "      <th>4</th>\n",
       "      <td>11/1/2019 0:00</td>\n",
       "      <td>591.60</td>\n",
       "      <td>0.0</td>\n",
       "      <td>12.00</td>\n",
       "      <td>ANCHOR</td>\n",
       "      <td>INSURANCE</td>\n",
       "      <td>OUTPATIENT</td>\n",
       "      <td>11:16:21</td>\n",
       "      <td>12:06:49</td>\n",
       "      <td>12:06:54</td>\n",
       "      <td>DR15154H4</td>\n",
       "      <td>C10005</td>\n",
       "      <td>603.60</td>\n",
       "    </tr>\n",
       "  </tbody>\n",
       "</table>\n",
       "</div>"
      ],
      "text/plain": [
       "             Date  Medication Revenue  Lab Cost  Consultation Revenue  \\\n",
       "0  11/4/2019 0:00             1183.22      10.0                 20.17   \n",
       "1  11/6/2019 0:00              738.48       0.0                 15.00   \n",
       "2  11/2/2019 0:00              660.00       0.0                 21.17   \n",
       "3  11/6/2019 0:00              600.00       0.0                  0.00   \n",
       "4  11/1/2019 0:00              591.60       0.0                 12.00   \n",
       "\n",
       "  Doctor Type Financial Class Patient Type Entry Time Post-Consultation Time  \\\n",
       "0      ANCHOR             HMO   OUTPATIENT    8:35:45                9:17:54   \n",
       "1      ANCHOR       INSURANCE   OUTPATIENT   19:19:16               21:02:36   \n",
       "2      ANCHOR             HMO   OUTPATIENT   10:46:52               11:56:25   \n",
       "3      ANCHOR        MEDICARE   OUTPATIENT    9:38:34               10:55:50   \n",
       "4      ANCHOR       INSURANCE   OUTPATIENT   11:16:21               12:06:49   \n",
       "\n",
       "  Completion Time     Doctor Patient ID  Total Revenue  \n",
       "0         9:29:46  DR05350C4     C10001        1213.39  \n",
       "1        21:24:07  DR09451Z4     C10002         753.48  \n",
       "2        12:06:28  DR17400I4     C10003         681.17  \n",
       "3        10:58:02  DR09451Z4     C10004         600.00  \n",
       "4        12:06:54  DR15154H4     C10005         603.60  "
      ]
     },
     "execution_count": 14,
     "metadata": {},
     "output_type": "execute_result"
    }
   ],
   "source": [
    "df.head()"
   ]
  },
  {
   "cell_type": "code",
   "execution_count": 15,
   "id": "49ad98d0",
   "metadata": {},
   "outputs": [],
   "source": [
    "# create a quick get hour function\n",
    "def get_hour(x):\n",
    "    x = pd.to_datetime(x)\n",
    "    x = x.hour\n",
    "    return x"
   ]
  },
  {
   "cell_type": "code",
   "execution_count": 16,
   "id": "58f8f39c",
   "metadata": {},
   "outputs": [],
   "source": [
    "# create entry hour\n",
    "df[\"Entry Hour\"] = df[\"Entry Time\"].apply(get_hour)"
   ]
  },
  {
   "cell_type": "code",
   "execution_count": 17,
   "id": "bc398437",
   "metadata": {},
   "outputs": [],
   "source": [
    "# create other hour\n",
    "df[\"Post-Consultation Hour\"] = df[\"Post-Consultation Time\"].apply(get_hour)\n",
    "df[\"Completion Hour\"] = df[\"Completion Time\"].apply(get_hour)"
   ]
  },
  {
   "cell_type": "code",
   "execution_count": 18,
   "id": "05955a17",
   "metadata": {},
   "outputs": [
    {
     "data": {
      "text/html": [
       "<div>\n",
       "<style scoped>\n",
       "    .dataframe tbody tr th:only-of-type {\n",
       "        vertical-align: middle;\n",
       "    }\n",
       "\n",
       "    .dataframe tbody tr th {\n",
       "        vertical-align: top;\n",
       "    }\n",
       "\n",
       "    .dataframe thead th {\n",
       "        text-align: right;\n",
       "    }\n",
       "</style>\n",
       "<table border=\"1\" class=\"dataframe\">\n",
       "  <thead>\n",
       "    <tr style=\"text-align: right;\">\n",
       "      <th></th>\n",
       "      <th>Date</th>\n",
       "      <th>Medication Revenue</th>\n",
       "      <th>Lab Cost</th>\n",
       "      <th>Consultation Revenue</th>\n",
       "      <th>Doctor Type</th>\n",
       "      <th>Financial Class</th>\n",
       "      <th>Patient Type</th>\n",
       "      <th>Entry Time</th>\n",
       "      <th>Post-Consultation Time</th>\n",
       "      <th>Completion Time</th>\n",
       "      <th>Doctor</th>\n",
       "      <th>Patient ID</th>\n",
       "      <th>Total Revenue</th>\n",
       "      <th>Entry Hour</th>\n",
       "      <th>Post-Consultation Hour</th>\n",
       "      <th>Completion Hour</th>\n",
       "    </tr>\n",
       "  </thead>\n",
       "  <tbody>\n",
       "    <tr>\n",
       "      <th>0</th>\n",
       "      <td>11/4/2019 0:00</td>\n",
       "      <td>1183.22</td>\n",
       "      <td>10.0</td>\n",
       "      <td>20.17</td>\n",
       "      <td>ANCHOR</td>\n",
       "      <td>HMO</td>\n",
       "      <td>OUTPATIENT</td>\n",
       "      <td>8:35:45</td>\n",
       "      <td>9:17:54</td>\n",
       "      <td>9:29:46</td>\n",
       "      <td>DR05350C4</td>\n",
       "      <td>C10001</td>\n",
       "      <td>1213.39</td>\n",
       "      <td>8</td>\n",
       "      <td>9</td>\n",
       "      <td>9</td>\n",
       "    </tr>\n",
       "    <tr>\n",
       "      <th>1</th>\n",
       "      <td>11/6/2019 0:00</td>\n",
       "      <td>738.48</td>\n",
       "      <td>0.0</td>\n",
       "      <td>15.00</td>\n",
       "      <td>ANCHOR</td>\n",
       "      <td>INSURANCE</td>\n",
       "      <td>OUTPATIENT</td>\n",
       "      <td>19:19:16</td>\n",
       "      <td>21:02:36</td>\n",
       "      <td>21:24:07</td>\n",
       "      <td>DR09451Z4</td>\n",
       "      <td>C10002</td>\n",
       "      <td>753.48</td>\n",
       "      <td>19</td>\n",
       "      <td>21</td>\n",
       "      <td>21</td>\n",
       "    </tr>\n",
       "    <tr>\n",
       "      <th>2</th>\n",
       "      <td>11/2/2019 0:00</td>\n",
       "      <td>660.00</td>\n",
       "      <td>0.0</td>\n",
       "      <td>21.17</td>\n",
       "      <td>ANCHOR</td>\n",
       "      <td>HMO</td>\n",
       "      <td>OUTPATIENT</td>\n",
       "      <td>10:46:52</td>\n",
       "      <td>11:56:25</td>\n",
       "      <td>12:06:28</td>\n",
       "      <td>DR17400I4</td>\n",
       "      <td>C10003</td>\n",
       "      <td>681.17</td>\n",
       "      <td>10</td>\n",
       "      <td>11</td>\n",
       "      <td>12</td>\n",
       "    </tr>\n",
       "    <tr>\n",
       "      <th>3</th>\n",
       "      <td>11/6/2019 0:00</td>\n",
       "      <td>600.00</td>\n",
       "      <td>0.0</td>\n",
       "      <td>0.00</td>\n",
       "      <td>ANCHOR</td>\n",
       "      <td>MEDICARE</td>\n",
       "      <td>OUTPATIENT</td>\n",
       "      <td>9:38:34</td>\n",
       "      <td>10:55:50</td>\n",
       "      <td>10:58:02</td>\n",
       "      <td>DR09451Z4</td>\n",
       "      <td>C10004</td>\n",
       "      <td>600.00</td>\n",
       "      <td>9</td>\n",
       "      <td>10</td>\n",
       "      <td>10</td>\n",
       "    </tr>\n",
       "    <tr>\n",
       "      <th>4</th>\n",
       "      <td>11/1/2019 0:00</td>\n",
       "      <td>591.60</td>\n",
       "      <td>0.0</td>\n",
       "      <td>12.00</td>\n",
       "      <td>ANCHOR</td>\n",
       "      <td>INSURANCE</td>\n",
       "      <td>OUTPATIENT</td>\n",
       "      <td>11:16:21</td>\n",
       "      <td>12:06:49</td>\n",
       "      <td>12:06:54</td>\n",
       "      <td>DR15154H4</td>\n",
       "      <td>C10005</td>\n",
       "      <td>603.60</td>\n",
       "      <td>11</td>\n",
       "      <td>12</td>\n",
       "      <td>12</td>\n",
       "    </tr>\n",
       "  </tbody>\n",
       "</table>\n",
       "</div>"
      ],
      "text/plain": [
       "             Date  Medication Revenue  Lab Cost  Consultation Revenue  \\\n",
       "0  11/4/2019 0:00             1183.22      10.0                 20.17   \n",
       "1  11/6/2019 0:00              738.48       0.0                 15.00   \n",
       "2  11/2/2019 0:00              660.00       0.0                 21.17   \n",
       "3  11/6/2019 0:00              600.00       0.0                  0.00   \n",
       "4  11/1/2019 0:00              591.60       0.0                 12.00   \n",
       "\n",
       "  Doctor Type Financial Class Patient Type Entry Time Post-Consultation Time  \\\n",
       "0      ANCHOR             HMO   OUTPATIENT    8:35:45                9:17:54   \n",
       "1      ANCHOR       INSURANCE   OUTPATIENT   19:19:16               21:02:36   \n",
       "2      ANCHOR             HMO   OUTPATIENT   10:46:52               11:56:25   \n",
       "3      ANCHOR        MEDICARE   OUTPATIENT    9:38:34               10:55:50   \n",
       "4      ANCHOR       INSURANCE   OUTPATIENT   11:16:21               12:06:49   \n",
       "\n",
       "  Completion Time     Doctor Patient ID  Total Revenue  Entry Hour  \\\n",
       "0         9:29:46  DR05350C4     C10001        1213.39           8   \n",
       "1        21:24:07  DR09451Z4     C10002         753.48          19   \n",
       "2        12:06:28  DR17400I4     C10003         681.17          10   \n",
       "3        10:58:02  DR09451Z4     C10004         600.00           9   \n",
       "4        12:06:54  DR15154H4     C10005         603.60          11   \n",
       "\n",
       "   Post-Consultation Hour  Completion Hour  \n",
       "0                       9                9  \n",
       "1                      21               21  \n",
       "2                      11               12  \n",
       "3                      10               10  \n",
       "4                      12               12  "
      ]
     },
     "execution_count": 18,
     "metadata": {},
     "output_type": "execute_result"
    }
   ],
   "source": [
    "df.head()"
   ]
  },
  {
   "cell_type": "code",
   "execution_count": null,
   "id": "ab1a7aee",
   "metadata": {},
   "outputs": [],
   "source": []
  },
  {
   "cell_type": "code",
   "execution_count": null,
   "id": "6eefff63",
   "metadata": {},
   "outputs": [],
   "source": []
  },
  {
   "cell_type": "code",
   "execution_count": null,
   "id": "74b9e844",
   "metadata": {},
   "outputs": [],
   "source": []
  },
  {
   "cell_type": "code",
   "execution_count": null,
   "id": "0bc653c0",
   "metadata": {},
   "outputs": [],
   "source": []
  },
  {
   "cell_type": "markdown",
   "id": "ba8069e7",
   "metadata": {},
   "source": [
    "### Visualize our results\n",
    "the organization want to see a heatmap of when the clinic receives the most patient and revenue"
   ]
  },
  {
   "cell_type": "code",
   "execution_count": 19,
   "id": "ad4f60a1",
   "metadata": {},
   "outputs": [],
   "source": [
    "# create day of the week\n",
    "df.Date = pd.to_datetime(df.Date)\n",
    "df[\"days of the week\"] = df.Date.dt.dayofweek\n",
    "df[\"name of days\"] = df.Date.dt.strftime(\"%A\")"
   ]
  },
  {
   "cell_type": "code",
   "execution_count": 20,
   "id": "a5d6ca1f",
   "metadata": {},
   "outputs": [
    {
     "data": {
      "text/html": [
       "<div>\n",
       "<style scoped>\n",
       "    .dataframe tbody tr th:only-of-type {\n",
       "        vertical-align: middle;\n",
       "    }\n",
       "\n",
       "    .dataframe tbody tr th {\n",
       "        vertical-align: top;\n",
       "    }\n",
       "\n",
       "    .dataframe thead th {\n",
       "        text-align: right;\n",
       "    }\n",
       "</style>\n",
       "<table border=\"1\" class=\"dataframe\">\n",
       "  <thead>\n",
       "    <tr style=\"text-align: right;\">\n",
       "      <th></th>\n",
       "      <th>Date</th>\n",
       "      <th>Medication Revenue</th>\n",
       "      <th>Lab Cost</th>\n",
       "      <th>Consultation Revenue</th>\n",
       "      <th>Doctor Type</th>\n",
       "      <th>Financial Class</th>\n",
       "      <th>Patient Type</th>\n",
       "      <th>Entry Time</th>\n",
       "      <th>Post-Consultation Time</th>\n",
       "      <th>Completion Time</th>\n",
       "      <th>Doctor</th>\n",
       "      <th>Patient ID</th>\n",
       "      <th>Total Revenue</th>\n",
       "      <th>Entry Hour</th>\n",
       "      <th>Post-Consultation Hour</th>\n",
       "      <th>Completion Hour</th>\n",
       "      <th>days of the week</th>\n",
       "      <th>name of days</th>\n",
       "    </tr>\n",
       "  </thead>\n",
       "  <tbody>\n",
       "    <tr>\n",
       "      <th>0</th>\n",
       "      <td>2019-11-04</td>\n",
       "      <td>1183.22</td>\n",
       "      <td>10.0</td>\n",
       "      <td>20.17</td>\n",
       "      <td>ANCHOR</td>\n",
       "      <td>HMO</td>\n",
       "      <td>OUTPATIENT</td>\n",
       "      <td>8:35:45</td>\n",
       "      <td>9:17:54</td>\n",
       "      <td>9:29:46</td>\n",
       "      <td>DR05350C4</td>\n",
       "      <td>C10001</td>\n",
       "      <td>1213.39</td>\n",
       "      <td>8</td>\n",
       "      <td>9</td>\n",
       "      <td>9</td>\n",
       "      <td>0</td>\n",
       "      <td>Monday</td>\n",
       "    </tr>\n",
       "    <tr>\n",
       "      <th>1</th>\n",
       "      <td>2019-11-06</td>\n",
       "      <td>738.48</td>\n",
       "      <td>0.0</td>\n",
       "      <td>15.00</td>\n",
       "      <td>ANCHOR</td>\n",
       "      <td>INSURANCE</td>\n",
       "      <td>OUTPATIENT</td>\n",
       "      <td>19:19:16</td>\n",
       "      <td>21:02:36</td>\n",
       "      <td>21:24:07</td>\n",
       "      <td>DR09451Z4</td>\n",
       "      <td>C10002</td>\n",
       "      <td>753.48</td>\n",
       "      <td>19</td>\n",
       "      <td>21</td>\n",
       "      <td>21</td>\n",
       "      <td>2</td>\n",
       "      <td>Wednesday</td>\n",
       "    </tr>\n",
       "    <tr>\n",
       "      <th>2</th>\n",
       "      <td>2019-11-02</td>\n",
       "      <td>660.00</td>\n",
       "      <td>0.0</td>\n",
       "      <td>21.17</td>\n",
       "      <td>ANCHOR</td>\n",
       "      <td>HMO</td>\n",
       "      <td>OUTPATIENT</td>\n",
       "      <td>10:46:52</td>\n",
       "      <td>11:56:25</td>\n",
       "      <td>12:06:28</td>\n",
       "      <td>DR17400I4</td>\n",
       "      <td>C10003</td>\n",
       "      <td>681.17</td>\n",
       "      <td>10</td>\n",
       "      <td>11</td>\n",
       "      <td>12</td>\n",
       "      <td>5</td>\n",
       "      <td>Saturday</td>\n",
       "    </tr>\n",
       "    <tr>\n",
       "      <th>3</th>\n",
       "      <td>2019-11-06</td>\n",
       "      <td>600.00</td>\n",
       "      <td>0.0</td>\n",
       "      <td>0.00</td>\n",
       "      <td>ANCHOR</td>\n",
       "      <td>MEDICARE</td>\n",
       "      <td>OUTPATIENT</td>\n",
       "      <td>9:38:34</td>\n",
       "      <td>10:55:50</td>\n",
       "      <td>10:58:02</td>\n",
       "      <td>DR09451Z4</td>\n",
       "      <td>C10004</td>\n",
       "      <td>600.00</td>\n",
       "      <td>9</td>\n",
       "      <td>10</td>\n",
       "      <td>10</td>\n",
       "      <td>2</td>\n",
       "      <td>Wednesday</td>\n",
       "    </tr>\n",
       "    <tr>\n",
       "      <th>4</th>\n",
       "      <td>2019-11-01</td>\n",
       "      <td>591.60</td>\n",
       "      <td>0.0</td>\n",
       "      <td>12.00</td>\n",
       "      <td>ANCHOR</td>\n",
       "      <td>INSURANCE</td>\n",
       "      <td>OUTPATIENT</td>\n",
       "      <td>11:16:21</td>\n",
       "      <td>12:06:49</td>\n",
       "      <td>12:06:54</td>\n",
       "      <td>DR15154H4</td>\n",
       "      <td>C10005</td>\n",
       "      <td>603.60</td>\n",
       "      <td>11</td>\n",
       "      <td>12</td>\n",
       "      <td>12</td>\n",
       "      <td>4</td>\n",
       "      <td>Friday</td>\n",
       "    </tr>\n",
       "  </tbody>\n",
       "</table>\n",
       "</div>"
      ],
      "text/plain": [
       "        Date  Medication Revenue  Lab Cost  Consultation Revenue Doctor Type  \\\n",
       "0 2019-11-04             1183.22      10.0                 20.17      ANCHOR   \n",
       "1 2019-11-06              738.48       0.0                 15.00      ANCHOR   \n",
       "2 2019-11-02              660.00       0.0                 21.17      ANCHOR   \n",
       "3 2019-11-06              600.00       0.0                  0.00      ANCHOR   \n",
       "4 2019-11-01              591.60       0.0                 12.00      ANCHOR   \n",
       "\n",
       "  Financial Class Patient Type Entry Time Post-Consultation Time  \\\n",
       "0             HMO   OUTPATIENT    8:35:45                9:17:54   \n",
       "1       INSURANCE   OUTPATIENT   19:19:16               21:02:36   \n",
       "2             HMO   OUTPATIENT   10:46:52               11:56:25   \n",
       "3        MEDICARE   OUTPATIENT    9:38:34               10:55:50   \n",
       "4       INSURANCE   OUTPATIENT   11:16:21               12:06:49   \n",
       "\n",
       "  Completion Time     Doctor Patient ID  Total Revenue  Entry Hour  \\\n",
       "0         9:29:46  DR05350C4     C10001        1213.39           8   \n",
       "1        21:24:07  DR09451Z4     C10002         753.48          19   \n",
       "2        12:06:28  DR17400I4     C10003         681.17          10   \n",
       "3        10:58:02  DR09451Z4     C10004         600.00           9   \n",
       "4        12:06:54  DR15154H4     C10005         603.60          11   \n",
       "\n",
       "   Post-Consultation Hour  Completion Hour  days of the week name of days  \n",
       "0                       9                9                 0       Monday  \n",
       "1                      21               21                 2    Wednesday  \n",
       "2                      11               12                 5     Saturday  \n",
       "3                      10               10                 2    Wednesday  \n",
       "4                      12               12                 4       Friday  "
      ]
     },
     "execution_count": 20,
     "metadata": {},
     "output_type": "execute_result"
    }
   ],
   "source": [
    "df.head()"
   ]
  },
  {
   "cell_type": "code",
   "execution_count": 21,
   "id": "5e621b8b",
   "metadata": {},
   "outputs": [],
   "source": [
    "# import our visualization library\n",
    "import matplotlib.pyplot as plt\n",
    "import seaborn as sns\n",
    "plt.style.use(\"dark_background\")"
   ]
  },
  {
   "cell_type": "code",
   "execution_count": 22,
   "id": "bba15711",
   "metadata": {},
   "outputs": [
    {
     "data": {
      "text/plain": [
       "name of days\n",
       "Thursday      97480.16\n",
       "Sunday       111779.72\n",
       "Saturday     124407.67\n",
       "Wednesday    156197.58\n",
       "Friday       177569.50\n",
       "Tuesday      209864.37\n",
       "Monday       266648.00\n",
       "Name: Total Revenue, dtype: float64"
      ]
     },
     "execution_count": 22,
     "metadata": {},
     "output_type": "execute_result"
    }
   ],
   "source": [
    "df.groupby(\"name of days\")[\"Total Revenue\"].sum().sort_values()"
   ]
  },
  {
   "cell_type": "code",
   "execution_count": 23,
   "id": "05cd22cb",
   "metadata": {
    "scrolled": true
   },
   "outputs": [
    {
     "data": {
      "text/plain": [
       "<AxesSubplot:xlabel='name of days', ylabel='Total Revenue'>"
      ]
     },
     "execution_count": 23,
     "metadata": {},
     "output_type": "execute_result"
    },
    {
     "data": {
      "image/png": "[encoded data removed]",
      "text/plain": [
       "<Figure size 720x360 with 1 Axes>"
      ]
     },
     "metadata": {},
     "output_type": "display_data"
    }
   ],
   "source": [
    "plt.figure(figsize=(10,5))\n",
    "sns.boxplot(data=df,y=\"Total Revenue\",x=\"name of days\",showfliers=False)"
   ]
  },
  {
   "cell_type": "code",
   "execution_count": 24,
   "id": "b385ecd2",
   "metadata": {},
   "outputs": [
    {
     "data": {
      "text/plain": [
       "<AxesSubplot:xlabel='name of days', ylabel='Total Revenue'>"
      ]
     },
     "execution_count": 24,
     "metadata": {},
     "output_type": "execute_result"
    },
    {
     "data": {
      "image/png": "[encoded data removed]",
      "text/plain": [
       "<Figure size 720x360 with 1 Axes>"
      ]
     },
     "metadata": {},
     "output_type": "display_data"
    }
   ],
   "source": [
    "plt.figure(figsize=(10,5))\n",
    "sns.violinplot(data=df,y=\"Total Revenue\",x=\"name of days\")"
   ]
  },
  {
   "cell_type": "code",
   "execution_count": 25,
   "id": "b5d5963f",
   "metadata": {},
   "outputs": [
    {
     "data": {
      "text/plain": [
       "<AxesSubplot:ylabel='Entry Hour'>"
      ]
     },
     "execution_count": 25,
     "metadata": {},
     "output_type": "execute_result"
    },
    {
     "data": {
      "image/png": "[encoded data removed]",
      "text/plain": [
       "<Figure size 720x360 with 2 Axes>"
      ]
     },
     "metadata": {},
     "output_type": "display_data"
    }
   ],
   "source": [
    "# create a pivot table\n",
    "pivot = pd.pivot_table(data=df, index=\"Entry Hour\", columns=\"days of the week\", values=\"Total Revenue\", aggfunc=\"sum\")\n",
    "pivot.columns = [\"mon\",\"tue\",\"wed\",\"thur\",\"fri\",\"sat\",\"sun\"]\n",
    "plt.figure(figsize=(10,5))\n",
    "sns.heatmap(pivot, cmap=\"hot\")"
   ]
  },
  {
   "cell_type": "code",
   "execution_count": 29,
   "id": "880ed0fe",
   "metadata": {},
   "outputs": [
    {
     "data": {
      "text/plain": [
       "<AxesSubplot:ylabel='Entry Hour'>"
      ]
     },
     "execution_count": 29,
     "metadata": {},
     "output_type": "execute_result"
    },
    {
     "data": {
      "image/png": "[encoded data removed]",
      "text/plain": [
       "<Figure size 720x360 with 2 Axes>"
      ]
     },
     "metadata": {},
     "output_type": "display_data"
    }
   ],
   "source": [
    "pivot = pd.pivot_table(data=df, index=\"Entry Hour\", columns=\"days of the week\", values=\"Patient ID\", aggfunc=\"count\")\n",
    "pivot.columns = [\"mon\",\"tue\",\"wed\",\"thur\",\"fri\",\"sat\",\"sun\"]\n",
    "plt.figure(figsize=(10,5))\n",
    "sns.heatmap(pivot, cmap=\"seismic\")"
   ]
  },
  {
   "cell_type": "code",
   "execution_count": 30,
   "id": "1aa1acd8",
   "metadata": {},
   "outputs": [
    {
     "name": "stderr",
     "output_type": "stream",
     "text": [
      "C:\\Users\\LTECH\\anaconda3\\lib\\site-packages\\seaborn\\_decorators.py:36: FutureWarning: Pass the following variable as a keyword arg: y. From version 0.12, the only valid positional argument will be `data`, and passing other arguments without an explicit keyword will result in an error or misinterpretation.\n",
      "  warnings.warn(\n"
     ]
    },
    {
     "data": {
      "text/plain": [
       "<AxesSubplot:xlabel='days of the week', ylabel='Entry Hour'>"
      ]
     },
     "execution_count": 30,
     "metadata": {},
     "output_type": "execute_result"
    },
    {
     "data": {
      "image/png": "[encoded data removed]",
      "text/plain": [
       "<Figure size 720x360 with 1 Axes>"
      ]
     },
     "metadata": {},
     "output_type": "display_data"
    }
   ],
   "source": [
    "plt.figure(figsize=(10,5))\n",
    "plt.xlim(-1,7)\n",
    "plt.ylim(7,23)\n",
    "plt.xticks([0,1,2,3,4,5,6],[\"mon\",\"tue\",\"wed\",\"thur\",\"fri\",\"sat\",\"sun\"])\n",
    "sns.kdeplot(df[\"days of the week\"],df[\"Entry Hour\"],fill=True, cmap=\"magma\")"
   ]
  },
  {
   "cell_type": "markdown",
   "id": "57a25e7b",
   "metadata": {},
   "source": [
    "# Cleaned Dataset"
   ]
  },
  {
   "cell_type": "code",
   "execution_count": 28,
   "id": "f8416d8c",
   "metadata": {},
   "outputs": [],
   "source": [
    "df.to_csv(\"cleaned_clinic_data.csv\")"
   ]
  },
  {
   "cell_type": "code",
   "execution_count": null,
   "id": "e537bcbb",
   "metadata": {},
   "outputs": [],
   "source": []
  },
  {
   "cell_type": "code",
   "execution_count": null,
   "id": "e6dcf7cc",
   "metadata": {},
   "outputs": [],
   "source": []
  },
  {
   "cell_type": "code",
   "execution_count": null,
   "id": "e2e4d3b6",
   "metadata": {},
   "outputs": [],
   "source": []
  },
  {
   "cell_type": "code",
   "execution_count": null,
   "id": "5aa309a3",
   "metadata": {},
   "outputs": [],
   "source": []
  },
  {
   "cell_type": "code",
   "execution_count": null,
   "id": "2adb5424",
   "metadata": {},
   "outputs": [],
   "source": []
  }
 ],
 "metadata": {
  "kernelspec": {
   "display_name": "Python 3",
   "language": "python",
   "name": "python3"
  },
  "language_info": {
   "codemirror_mode": {
    "name": "ipython",
    "version": 3
   },
   "file_extension": ".py",
   "mimetype": "text/x-python",
   "name": "python",
   "nbconvert_exporter": "python",
   "pygments_lexer": "ipython3",
   "version": "3.8.8"
  }
 },
 "nbformat": 4,
 "nbformat_minor": 5
}
